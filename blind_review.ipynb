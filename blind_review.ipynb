{
 "cells": [
  {
   "cell_type": "code",
   "execution_count": 13,
   "id": "3b56d5e5",
   "metadata": {},
   "outputs": [
    {
     "name": "stdout",
     "output_type": "stream",
     "text": [
      "成功创建数据库引擎，尝试连接到 large_model_dev...\n",
      "正在从表 'blind_review_detail' 读取数据...\n",
      "\n",
      "发生未知错误：(pymysql.err.OperationalError) (2013, 'Lost connection to MySQL server during query')\n",
      "(Background on this error at: https://sqlalche.me/e/20/e3q8)\n",
      "\n",
      "数据库连接已关闭。\n"
     ]
    }
   ],
   "source": [
    "import pandas as pd\n",
    "from sqlalchemy import create_engine\n",
    "import pymysql\n",
    "\n",
    "# 数据库连接参数\n",
    "DB_HOST = '219.148.159.170'\n",
    "DB_PORT = 30050\n",
    "DB_USER = 'lmd'\n",
    "DB_PASSWORD = 'cWBYNsyShaJWvmA'\n",
    "DB_NAME = 'large_model_dev'\n",
    "\n",
    "# 构造数据库连接字符串\n",
    "# 使用 mysql+pymysql:// 协议表示通过 PyMySQL 驱动连接 MySQL 数据库\n",
    "DATABASE_URL = f\"mysql+pymysql://{DB_USER}:{DB_PASSWORD}@{DB_HOST}:{DB_PORT}/{DB_NAME}\"\n",
    "\n",
    "# 创建数据库引擎\n",
    "try:\n",
    "    engine = create_engine(DATABASE_URL)\n",
    "    print(f\"成功创建数据库引擎，尝试连接到 {DB_NAME}...\")\n",
    "\n",
    "    detail_table_name = 'blind_review_detail'\n",
    "    work_table_name = 'lmd_blind_review_work'\n",
    "\n",
    "    print(f\"正在从表 '{detail_table_name}' 读取数据...\")\n",
    "    detail_df = pd.read_sql_table(detail_table_name, engine)\n",
    "    print(f\"\\n成功从表 '{detail_table_name}' 读取数据到 Pandas DataFrame！\")\n",
    "    # print(\"DataFrame 的前5行：\")\n",
    "    # print(detail_df.head())\n",
    "\n",
    "    print(f\"\\n正在从表 '{work_table_name}' 读取数据...\")\n",
    "    work_df = pd.read_sql_table(work_table_name, engine)\n",
    "    print(f\"\\n成功从表 '{work_table_name}' 读取数据到 Pandas DataFrame！\")\n",
    "    # print(\"DataFrame 的前5行：\")\n",
    "    # print(work_df.head())\n",
    "\n",
    "\n",
    "    # 将数据导出为 CSV 文件（可选）\n",
    "    # output_csv_file = 'blind_review_detail.csv'\n",
    "    # df.to_csv(output_csv_file, index=False, encoding='utf-8')\n",
    "    # print(f\"\\n数据已成功导出到文件：{output_csv_file}\")\n",
    "\n",
    "except pymysql.err.OperationalError as e:\n",
    "    print(f\"\\n错误：数据库连接失败或操作错误。请检查以下信息：\")\n",
    "    print(f\"- 数据库主机/端口是否正确: {DB_HOST}:{DB_PORT}\")\n",
    "    print(f\"- 用户名/密码是否正确\")\n",
    "    print(f\"- 数据库 '{DB_NAME}' 是否存在且可访问\")\n",
    "    print(f\"- 你的IP地址是否被允许访问该数据库服务器（防火墙设置）\")\n",
    "    print(f\"- 具体的错误信息: {e}\")\n",
    "\n",
    "except Exception as e:\n",
    "    print(f\"\\n发生未知错误：{e}\")\n",
    "\n",
    "finally:\n",
    "    # 最佳实践：关闭数据库连接（尽管 SQLAlchemy 引擎通常会自动管理连接池）\n",
    "    if 'engine' in locals():\n",
    "        engine.dispose()\n",
    "        print(\"\\n数据库连接已关闭。\")"
   ]
  },
  {
   "cell_type": "code",
   "execution_count": 14,
   "id": "472e13e9",
   "metadata": {},
   "outputs": [
    {
     "data": {
      "text/plain": [
       "Index(['test', 'test1', '核聚变评估基准盲审', '核聚变数据盲审任务（测试）黄贤礼', '核聚变数据盲审任务（正式）刘勇',\n",
       "       '核聚变数据盲审任务（正式）朱晓军', '核聚变数据盲审任务（正式）杨爽', '核聚变数据盲审任务（正式）宋显明',\n",
       "       '核聚变数据盲审任务（测试）史国阳', '核聚变数据盲审任务（测试）顾翔', '核聚变数据盲审任务（测试）谢华生',\n",
       "       '核聚变数据盲审任务（测试）陈建国', '核聚变数据盲审任务（正式）包蕊', '核聚变数据盲审任务（测试）李毅',\n",
       "       '核聚变数据盲审任务（测试）董力立', '核聚变数据盲审任务（测试）孙恬恬', '核聚变数据盲审任务（测试）王嵎民',\n",
       "       '核聚变数据盲审任务（测试）于一丁', '核聚变数据盲审任务（正式）刘兵', '核聚变数据盲审任务（正式）郭栋',\n",
       "       '核聚变数据盲审任务（正式）孔浩喆', '核聚变数据盲审任务（正式）陈建国', '核聚变数据盲审任务（测试）李松健',\n",
       "       '核聚变数据盲审任务（测试）王维', '核聚变数据盲审任务（正式）史国阳', '核聚变数据盲审任务（正式）顾翔',\n",
       "       '核聚变数据盲审任务（正式）黄贤礼', '核聚变数据盲审任务（正式）王维', '核聚变数据盲审任务（正式）谢华生',\n",
       "       '核聚变数据盲审任务（测试）郭栋', '核聚变数据盲审任务（正式）李毅', '核聚变数据盲审任务（正式）董力立',\n",
       "       '核聚变数据盲审任务（正式）孙恬恬', '核聚变数据盲审任务（正式）王嵎民', '核聚变数据盲审任务（正式）于一丁',\n",
       "       '核聚变数据盲审任务（正式）宋绍栋', '核聚变数据盲审任务（测试）宋绍栋', '核聚变数据盲审任务（测试）孔浩喆', 'T01',\n",
       "       'test-new新奥20', '0613盲审数据新奥17', '0613盲审数据', 'test新奥17', '测试盲审任务',\n",
       "       'gmytest新奥17', 'gmytest', 'test-new新奥21', '核聚变数据盲审任务（测试）王芸红',\n",
       "       'test-new', '核聚变评估数据盲审（测试）', '核聚变评估数据盲审任务（勿删）', 'T1001', 'T0101',\n",
       "       '核聚变评估基准数据盲审（勿删）', '核聚变数据盲审任务（正式）', '核聚变数据盲审任务（测试）', '核聚变数据盲审任务（正式）刘硕',\n",
       "       '核聚变数据盲审任务（测试）刘硕', '核聚变数据盲审任务（正式）王芸红', '核聚变数据盲审任务（测试）liutianyuan',\n",
       "       '核聚变数据盲审任务（测试）chenjianguo', '核聚变数据盲审任务（正式）liutianyuan',\n",
       "       '核聚变数据盲审任务（正式）chenjianguo', '核聚变数据盲审任务（测试）guomengyu',\n",
       "       '核聚变数据盲审任务（正式）guomengyu', '核聚变数据盲审任务（测试）宋显明', '核聚变数据盲审任务（测试）杨爽',\n",
       "       '核聚变数据盲审任务（测试）朱晓军', '核聚变数据盲审任务（测试）刘勇', '核聚变数据盲审任务（测试）刘兵',\n",
       "       '核聚变数据盲审任务（测试）包蕊', '核聚变数据盲审任务（正式）李松健'],\n",
       "      dtype='object', name='work_name')"
      ]
     },
     "execution_count": 14,
     "metadata": {},
     "output_type": "execute_result"
    }
   ],
   "source": [
    "work_df.work_name.value_counts().index"
   ]
  },
  {
   "cell_type": "code",
   "execution_count": 15,
   "id": "9c23cd51",
   "metadata": {},
   "outputs": [
    {
     "data": {
      "text/plain": [
       "work_name\n",
       "核聚变数据盲审任务（正式）刘硕     1\n",
       "核聚变数据盲审任务（正式）王嵎民    1\n",
       "核聚变数据盲审任务（正式）史国阳    1\n",
       "核聚变数据盲审任务（正式）顾翔     1\n",
       "核聚变数据盲审任务（正式）黄贤礼    1\n",
       "核聚变数据盲审任务（正式）王维     1\n",
       "核聚变数据盲审任务（正式）陈建国    1\n",
       "核聚变数据盲审任务（正式）谢华生    1\n",
       "核聚变数据盲审任务（正式）李毅     1\n",
       "核聚变数据盲审任务（正式）董力立    1\n",
       "核聚变数据盲审任务（正式）孙恬恬    1\n",
       "核聚变数据盲审任务（正式）于一丁    1\n",
       "核聚变数据盲审任务（正式）王芸红    1\n",
       "核聚变数据盲审任务（正式）宋绍栋    1\n",
       "核聚变数据盲审任务（正式）郭栋     1\n",
       "核聚变数据盲审任务（正式）孔浩喆    1\n",
       "核聚变数据盲审任务（正式）包蕊     1\n",
       "核聚变数据盲审任务（正式）刘兵     1\n",
       "核聚变数据盲审任务（正式）刘勇     1\n",
       "核聚变数据盲审任务（正式）朱晓军    1\n",
       "核聚变数据盲审任务（正式）杨爽     1\n",
       "核聚变数据盲审任务（正式）宋显明    1\n",
       "核聚变数据盲审任务（正式）李松健    1\n",
       "Name: count, dtype: int64"
      ]
     },
     "execution_count": 15,
     "metadata": {},
     "output_type": "execute_result"
    }
   ],
   "source": [
    "# 筛选条件1: work_name 包含 '（正式）'\n",
    "condition_formal = work_df['work_name'].str.contains('（正式）', na=False)\n",
    "\n",
    "# 筛选条件2: work_name 不包含 'liutianyuan' 或 'chenjianguo' 或 'guomengyu'\n",
    "# 使用 '|' (或) 运算符来组合多个排除条件\n",
    "excluded_names = ['liutianyuan', 'chenjianguo', 'guomengyu']\n",
    "condition_excluded = ~work_df['work_name'].str.contains('|'.join(excluded_names), na=False)\n",
    "\n",
    "# 筛选条件3: work_name 不为核聚变数据盲审任务（正式）\n",
    "condition_not_fusion = work_df['work_name'] != '核聚变数据盲审任务（正式）'\n",
    "filtered_work_df = work_df[condition_formal & condition_excluded & condition_not_fusion]\n",
    "filtered_work_df.work_name.value_counts()"
   ]
  },
  {
   "cell_type": "code",
   "execution_count": 20,
   "id": "d9099b9e",
   "metadata": {},
   "outputs": [
    {
     "data": {
      "text/html": [
       "<div>\n",
       "<style scoped>\n",
       "    .dataframe tbody tr th:only-of-type {\n",
       "        vertical-align: middle;\n",
       "    }\n",
       "\n",
       "    .dataframe tbody tr th {\n",
       "        vertical-align: top;\n",
       "    }\n",
       "\n",
       "    .dataframe thead th {\n",
       "        text-align: right;\n",
       "    }\n",
       "</style>\n",
       "<table border=\"1\" class=\"dataframe\">\n",
       "  <thead>\n",
       "    <tr style=\"text-align: right;\">\n",
       "      <th></th>\n",
       "      <th>id</th>\n",
       "      <th>review_work_id</th>\n",
       "      <th>question</th>\n",
       "      <th>model_name</th>\n",
       "      <th>answer</th>\n",
       "      <th>score</th>\n",
       "      <th>question_score</th>\n",
       "      <th>review</th>\n",
       "      <th>create_time</th>\n",
       "      <th>create_user_id</th>\n",
       "      <th>update_user_id</th>\n",
       "      <th>data_user_id</th>\n",
       "      <th>data_dept_id</th>\n",
       "      <th>is_delete</th>\n",
       "      <th>str_id</th>\n",
       "      <th>field</th>\n",
       "      <th>review_state</th>\n",
       "    </tr>\n",
       "  </thead>\n",
       "  <tbody>\n",
       "    <tr>\n",
       "      <th>0</th>\n",
       "      <td>1929719106487980032</td>\n",
       "      <td>1929719104508268544</td>\n",
       "      <td>如何从单粒子运动轨迹理论出发，推导并解释磁镜约束的基本原理及其对聚变装置设计的意义？讨论绝热...</td>\n",
       "      <td>openai/o3_answer</td>\n",
       "      <td>**1. 核心结论**  \\n磁镜约束利用空间变化的磁场强度，依靠带电粒子动量的绝热不变量，...</td>\n",
       "      <td>[]</td>\n",
       "      <td>NaN</td>\n",
       "      <td>[]</td>\n",
       "      <td>2025-06-03 09:57:42</td>\n",
       "      <td>1742014705053995008</td>\n",
       "      <td>1742014705053995008</td>\n",
       "      <td>NaN</td>\n",
       "      <td>NaN</td>\n",
       "      <td>1</td>\n",
       "      <td>None</td>\n",
       "      <td>等离子体物理基础</td>\n",
       "      <td>None</td>\n",
       "    </tr>\n",
       "    <tr>\n",
       "      <th>1</th>\n",
       "      <td>1929719106487980033</td>\n",
       "      <td>1929719104508268544</td>\n",
       "      <td>推导均匀磁化冷等离子体中平行传播的右旋圆偏振电磁波（R波）和左旋圆偏振电磁波（L波）的色散关...</td>\n",
       "      <td>openai/o3_answer</td>\n",
       "      <td>### 1. 核心结论\\n\\n- 均匀磁场中冷等离子体平行传播圆偏振波的色散关系为 $n^2...</td>\n",
       "      <td>[]</td>\n",
       "      <td>NaN</td>\n",
       "      <td>[]</td>\n",
       "      <td>2025-06-03 09:57:42</td>\n",
       "      <td>1742014705053995008</td>\n",
       "      <td>1742014705053995008</td>\n",
       "      <td>NaN</td>\n",
       "      <td>NaN</td>\n",
       "      <td>1</td>\n",
       "      <td>None</td>\n",
       "      <td>等离子体物理基础</td>\n",
       "      <td>None</td>\n",
       "    </tr>\n",
       "    <tr>\n",
       "      <th>2</th>\n",
       "      <td>1929719106487980034</td>\n",
       "      <td>1929719104508268544</td>\n",
       "      <td>估算在典型托卡马克等离子体参数下（如电子温度 Te​=5keV，电子密度 ne​=1020m...</td>\n",
       "      <td>openai/o3_answer</td>\n",
       "      <td>**核心结论**  \\n在 $T_e = 5\\,\\rm{keV}$、$n_e = 10^{2...</td>\n",
       "      <td>[]</td>\n",
       "      <td>NaN</td>\n",
       "      <td>[]</td>\n",
       "      <td>2025-06-03 09:57:42</td>\n",
       "      <td>1742014705053995008</td>\n",
       "      <td>1742014705053995008</td>\n",
       "      <td>NaN</td>\n",
       "      <td>NaN</td>\n",
       "      <td>1</td>\n",
       "      <td>None</td>\n",
       "      <td>等离子体物理基础</td>\n",
       "      <td>None</td>\n",
       "    </tr>\n",
       "    <tr>\n",
       "      <th>3</th>\n",
       "      <td>1929719106487980035</td>\n",
       "      <td>1929719104508268544</td>\n",
       "      <td>什么是反常输运？详细讨论一种主要的微观不稳定性（如离子温度梯度模ITG）是如何驱动反常输运的...</td>\n",
       "      <td>openai/o3_answer</td>\n",
       "      <td>**1. 核心结论**  \\n反常输运是指等离子体中的粒子、能量等输运远高于经典（或新古典）...</td>\n",
       "      <td>[]</td>\n",
       "      <td>NaN</td>\n",
       "      <td>[]</td>\n",
       "      <td>2025-06-03 09:57:42</td>\n",
       "      <td>1742014705053995008</td>\n",
       "      <td>1742014705053995008</td>\n",
       "      <td>NaN</td>\n",
       "      <td>NaN</td>\n",
       "      <td>1</td>\n",
       "      <td>None</td>\n",
       "      <td>等离子体物理基础</td>\n",
       "      <td>None</td>\n",
       "    </tr>\n",
       "    <tr>\n",
       "      <th>4</th>\n",
       "      <td>1929719106487980036</td>\n",
       "      <td>1929719104508268544</td>\n",
       "      <td>描述等离子体鞘层的形成过程和主要特征（如德拜鞘层、预鞘层）。鞘层在等离子体与壁相互作用（PM...</td>\n",
       "      <td>openai/o3_answer</td>\n",
       "      <td>核心结论  \\n—— 等离子体鞘层是在等离子体与固体壁（或探针等）接触区自发形成的带电层结构...</td>\n",
       "      <td>[]</td>\n",
       "      <td>NaN</td>\n",
       "      <td>[]</td>\n",
       "      <td>2025-06-03 09:57:42</td>\n",
       "      <td>1742014705053995008</td>\n",
       "      <td>1742014705053995008</td>\n",
       "      <td>NaN</td>\n",
       "      <td>NaN</td>\n",
       "      <td>1</td>\n",
       "      <td>None</td>\n",
       "      <td>等离子体物理基础</td>\n",
       "      <td>None</td>\n",
       "    </tr>\n",
       "  </tbody>\n",
       "</table>\n",
       "</div>"
      ],
      "text/plain": [
       "                    id       review_work_id  \\\n",
       "0  1929719106487980032  1929719104508268544   \n",
       "1  1929719106487980033  1929719104508268544   \n",
       "2  1929719106487980034  1929719104508268544   \n",
       "3  1929719106487980035  1929719104508268544   \n",
       "4  1929719106487980036  1929719104508268544   \n",
       "\n",
       "                                            question        model_name  \\\n",
       "0  如何从单粒子运动轨迹理论出发，推导并解释磁镜约束的基本原理及其对聚变装置设计的意义？讨论绝热...  openai/o3_answer   \n",
       "1  推导均匀磁化冷等离子体中平行传播的右旋圆偏振电磁波（R波）和左旋圆偏振电磁波（L波）的色散关...  openai/o3_answer   \n",
       "2  估算在典型托卡马克等离子体参数下（如电子温度 Te​=5keV，电子密度 ne​=1020m...  openai/o3_answer   \n",
       "3  什么是反常输运？详细讨论一种主要的微观不稳定性（如离子温度梯度模ITG）是如何驱动反常输运的...  openai/o3_answer   \n",
       "4  描述等离子体鞘层的形成过程和主要特征（如德拜鞘层、预鞘层）。鞘层在等离子体与壁相互作用（PM...  openai/o3_answer   \n",
       "\n",
       "                                              answer score  question_score  \\\n",
       "0  **1. 核心结论**  \\n磁镜约束利用空间变化的磁场强度，依靠带电粒子动量的绝热不变量，...    []             NaN   \n",
       "1  ### 1. 核心结论\\n\\n- 均匀磁场中冷等离子体平行传播圆偏振波的色散关系为 $n^2...    []             NaN   \n",
       "2  **核心结论**  \\n在 $T_e = 5\\,\\rm{keV}$、$n_e = 10^{2...    []             NaN   \n",
       "3  **1. 核心结论**  \\n反常输运是指等离子体中的粒子、能量等输运远高于经典（或新古典）...    []             NaN   \n",
       "4  核心结论  \\n—— 等离子体鞘层是在等离子体与固体壁（或探针等）接触区自发形成的带电层结构...    []             NaN   \n",
       "\n",
       "  review         create_time       create_user_id       update_user_id  \\\n",
       "0     [] 2025-06-03 09:57:42  1742014705053995008  1742014705053995008   \n",
       "1     [] 2025-06-03 09:57:42  1742014705053995008  1742014705053995008   \n",
       "2     [] 2025-06-03 09:57:42  1742014705053995008  1742014705053995008   \n",
       "3     [] 2025-06-03 09:57:42  1742014705053995008  1742014705053995008   \n",
       "4     [] 2025-06-03 09:57:42  1742014705053995008  1742014705053995008   \n",
       "\n",
       "   data_user_id  data_dept_id  is_delete str_id     field review_state  \n",
       "0           NaN           NaN          1   None  等离子体物理基础         None  \n",
       "1           NaN           NaN          1   None  等离子体物理基础         None  \n",
       "2           NaN           NaN          1   None  等离子体物理基础         None  \n",
       "3           NaN           NaN          1   None  等离子体物理基础         None  \n",
       "4           NaN           NaN          1   None  等离子体物理基础         None  "
      ]
     },
     "execution_count": 20,
     "metadata": {},
     "output_type": "execute_result"
    }
   ],
   "source": [
    "detail_df.head()"
   ]
  },
  {
   "cell_type": "code",
   "execution_count": 16,
   "id": "0b878f46",
   "metadata": {},
   "outputs": [
    {
     "name": "stdout",
     "output_type": "stream",
     "text": [
      "\n",
      "筛选后的 detail_df 行数: 11960\n"
     ]
    }
   ],
   "source": [
    "assigned_work_ids = filtered_work_df.id.tolist()\n",
    "# 过滤 detail_df 中的 review_work_id\n",
    "filtered_detail_df = detail_df[detail_df['review_work_id'].isin(assigned_work_ids)]\n",
    "print(f\"\\n筛选后的 detail_df 行数: {len(filtered_detail_df)}\")"
   ]
  },
  {
   "cell_type": "code",
   "execution_count": 17,
   "id": "cc0cf430",
   "metadata": {},
   "outputs": [
    {
     "data": {
      "text/plain": [
       "score\n",
       "0    11724\n",
       "2      143\n",
       "1       93\n",
       "Name: count, dtype: int64"
      ]
     },
     "execution_count": 17,
     "metadata": {},
     "output_type": "execute_result"
    }
   ],
   "source": [
    "filtered_detail_df['score'].value_counts()"
   ]
  },
  {
   "cell_type": "code",
   "execution_count": 18,
   "id": "7f7b201e",
   "metadata": {},
   "outputs": [
    {
     "name": "stdout",
     "output_type": "stream",
     "text": [
      "model_name\n",
      "openai/o3_answer                            53\n",
      "deepseek/deepseek-r1_answer                 39\n",
      "deepseek-ai/DeepSeek-R1-Distill-Qwen-32B    30\n",
      "google/gemini-2.5-pro-preview_answer        21\n",
      "Name: count, dtype: int64\n"
     ]
    }
   ],
   "source": [
    "result = filtered_detail_df[filtered_detail_df['score']=='2']['model_name'].value_counts()\n",
    "result = result.rename(index={'新奥QA测试-32B蒸馏_answer': 'deepseek-ai/DeepSeek-R1-Distill-Qwen-32B'})\n",
    "print(result)"
   ]
  },
  {
   "cell_type": "code",
   "execution_count": 19,
   "id": "d237c910",
   "metadata": {},
   "outputs": [
    {
     "data": {
      "image/png": "[encoded data removed]",
      "text/plain": [
       "<Figure size 1000x600 with 1 Axes>"
      ]
     },
     "metadata": {},
     "output_type": "display_data"
    }
   ],
   "source": [
    "import matplotlib.pyplot as plt\n",
    "import seaborn as sns\n",
    "import pandas as pd\n",
    "import matplotlib as mpl\n",
    "\n",
    "# result = pd.Series({\n",
    "#     'openai/o3_answer': 53,\n",
    "#     'deepseek-ai/deepseek-r1_answer': 39,\n",
    "#     'deepseek-ai/DeepSeek-R1-Distill-Qwen-32B': 30,\n",
    "#     'google/gemini-2.5-pro-preview_answer': 21\n",
    "# }, name='count')\n",
    "max_points = result.max()\n",
    "normalized_result = (result / max_points * 100)\n",
    "normalized_result_df = normalized_result.reset_index()\n",
    "\n",
    "normalized_result_df.columns = ['model_name', 'count']\n",
    "\n",
    "# 计算最大好评数\n",
    "max_count = normalized_result_df['count'].max()\n",
    "\n",
    "# 计算相对最佳模型的归一化表现（百分比）\n",
    "normalized_result_df['Normalized Performance (%)'] = (normalized_result_df['count'] / max_count) * 100\n",
    "\n",
    "# 按照归一化表现降序排序 DataFrame\n",
    "df_sorted = normalized_result_df.sort_values(by='Normalized Performance (%)', ascending=False)\n",
    "\n",
    "# 设置 seaborn 的主题风格（可选，让图表更美观）\n",
    "sns.set_theme(style=\"whitegrid\")\n",
    "\n",
    "# 创建一个 matplotlib 图形和轴对象，并设置图表大小\n",
    "plt.figure(figsize=(10, 6))\n",
    "\n",
    "# 使用 seaborn.barplot 创建条形图\n",
    "barplot = sns.barplot(\n",
    "    x='model_name',\n",
    "    y='Normalized Performance (%)',\n",
    "    hue='model_name',\n",
    "    data=df_sorted,\n",
    "    palette='viridis' # 选择一个颜色方案\n",
    ")\n",
    "\n",
    "# 添加图表标题和轴标签\n",
    "plt.title('Human preference', fontsize=16)\n",
    "plt.xlabel('Model', fontsize=12)\n",
    "plt.ylabel('Score', fontsize=12)\n",
    "\n",
    "# 旋转 X 轴标签，以防重叠，并调整对齐方式\n",
    "plt.xticks(rotation=45, ha='right')\n",
    "\n",
    "# 在每个条形上方添加具体的百分比数值\n",
    "for index, row in df_sorted.iterrows():\n",
    "    barplot.text(\n",
    "        index, # X 轴位置\n",
    "        row['Normalized Performance (%)'], # Y 轴位置\n",
    "        f\"{row['Normalized Performance (%)']:.1f}%\", # 格式化为一位小数的百分比\n",
    "        color='black', # 文本颜色\n",
    "        ha=\"center\", # 水平居中对齐\n",
    "        va='bottom' # 垂直底部对齐\n",
    "    )\n",
    "\n",
    "# 自动调整图表布局，防止标签被裁剪\n",
    "plt.tight_layout()\n",
    "\n",
    "\n",
    "# 关闭图表以释放内存\n",
    "plt.show()"
   ]
  },
  {
   "cell_type": "code",
   "execution_count": 23,
   "id": "9539ac63",
   "metadata": {},
   "outputs": [
    {
     "data": {
      "text/plain": [
       "field\n",
       "计算等离子体物理与集成建模      31\n",
       "托卡马克与仿星器运行与控制      29\n",
       "聚变包层与氚增殖技术         26\n",
       "等离子体诊断             26\n",
       "聚变装置工程、建造与遥操作系统    23\n",
       "等离子体加热与电流驱动         8\n",
       "Name: count, dtype: int64"
      ]
     },
     "execution_count": 23,
     "metadata": {},
     "output_type": "execute_result"
    }
   ],
   "source": [
    "filtered_detail_df[filtered_detail_df['score'] == '2']['field'].value_counts()"
   ]
  },
  {
   "cell_type": "code",
   "execution_count": 24,
   "id": "9e444b62",
   "metadata": {},
   "outputs": [
    {
     "data": {
      "text/plain": [
       "field\n",
       "等离子体诊断             38\n",
       "聚变装置工程、建造与遥操作系统    17\n",
       "聚变包层与氚增殖技术         14\n",
       "计算等离子体物理与集成建模       9\n",
       "等离子体加热与电流驱动         8\n",
       "托卡马克与仿星器运行与控制       7\n",
       "Name: count, dtype: int64"
      ]
     },
     "execution_count": 24,
     "metadata": {},
     "output_type": "execute_result"
    }
   ],
   "source": [
    "filtered_detail_df[filtered_detail_df['score'] == '1']['field'].value_counts()"
   ]
  },
  {
   "cell_type": "code",
   "execution_count": 25,
   "id": "f0788e7f",
   "metadata": {},
   "outputs": [
    {
     "data": {
      "text/plain": [
       "field\n",
       "等离子体诊断             64\n",
       "聚变装置工程、建造与遥操作系统    40\n",
       "聚变包层与氚增殖技术         40\n",
       "计算等离子体物理与集成建模      40\n",
       "托卡马克与仿星器运行与控制      36\n",
       "等离子体加热与电流驱动        16\n",
       "Name: count, dtype: int64"
      ]
     },
     "execution_count": 25,
     "metadata": {},
     "output_type": "execute_result"
    }
   ],
   "source": [
    "filtered_detail_df[filtered_detail_df['score'] != '0']['field'].value_counts()"
   ]
  },
  {
   "cell_type": "code",
   "execution_count": null,
   "id": "90d9b218",
   "metadata": {},
   "outputs": [],
   "source": []
  }
 ],
 "metadata": {
  "kernelspec": {
   "display_name": "llm",
   "language": "python",
   "name": "python3"
  },
  "language_info": {
   "codemirror_mode": {
    "name": "ipython",
    "version": 3
   },
   "file_extension": ".py",
   "mimetype": "text/x-python",
   "name": "python",
   "nbconvert_exporter": "python",
   "pygments_lexer": "ipython3",
   "version": "3.10.17"
  }
 },
 "nbformat": 4,
 "nbformat_minor": 5
}
