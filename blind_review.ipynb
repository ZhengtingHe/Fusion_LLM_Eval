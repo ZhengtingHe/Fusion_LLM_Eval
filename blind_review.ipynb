{
 "cells": [
  {
   "cell_type": "code",
   "execution_count": 13,
   "id": "0265f0cc",
   "metadata": {},
   "outputs": [],
   "source": [
    "import pandas as pd\n",
    "import json\n",
    "import numpy as np\n",
    "def load_jsonl(file_path):\n",
    "    \"\"\"\n",
    "    Load a JSON Lines file into a list of dictionaries.\n",
    "    \n",
    "    Args:\n",
    "        file_path (str): Path to the JSON Lines file.\n",
    "        \n",
    "    Returns:\n",
    "        list: A list of dictionaries representing the JSON objects in the file.\n",
    "    \"\"\"\n",
    "    data = []\n",
    "    with open(file_path, 'r', encoding='utf-8') as f:\n",
    "        data = json.load(f)\n",
    "    return data"
   ]
  },
  {
   "cell_type": "code",
   "execution_count": 28,
   "id": "3b46e9e9",
   "metadata": {},
   "outputs": [
    {
     "data": {
      "text/html": [
       "<div>\n",
       "<style scoped>\n",
       "    .dataframe tbody tr th:only-of-type {\n",
       "        vertical-align: middle;\n",
       "    }\n",
       "\n",
       "    .dataframe tbody tr th {\n",
       "        vertical-align: top;\n",
       "    }\n",
       "\n",
       "    .dataframe thead th {\n",
       "        text-align: right;\n",
       "    }\n",
       "</style>\n",
       "<table border=\"1\" class=\"dataframe\">\n",
       "  <thead>\n",
       "    <tr style=\"text-align: right;\">\n",
       "      <th></th>\n",
       "      <th>id</th>\n",
       "      <th>review_work_id</th>\n",
       "      <th>question</th>\n",
       "      <th>model_name</th>\n",
       "      <th>answer</th>\n",
       "      <th>score</th>\n",
       "      <th>question_score</th>\n",
       "      <th>review</th>\n",
       "      <th>create_time</th>\n",
       "      <th>create_user_id</th>\n",
       "      <th>update_user_id</th>\n",
       "      <th>data_user_id</th>\n",
       "      <th>data_dept_id</th>\n",
       "      <th>is_delete</th>\n",
       "      <th>str_id</th>\n",
       "      <th>field</th>\n",
       "      <th>review_state</th>\n",
       "    </tr>\n",
       "  </thead>\n",
       "  <tbody>\n",
       "    <tr>\n",
       "      <th>0</th>\n",
       "      <td>1935496933023944705</td>\n",
       "      <td>1935496933023944704</td>\n",
       "      <td>如何从单粒子运动轨迹理论出发，推导并解释磁镜约束的基本原理及其对聚变装置设计的意义？讨论绝热...</td>\n",
       "      <td>新奥QA测试-32B蒸馏_answer</td>\n",
       "      <td>### 从单粒子运动轨迹理论出发解释磁镜约束的基本原理及其对聚变装置设计的意义\\n\\n###...</td>\n",
       "      <td>0</td>\n",
       "      <td>NaN</td>\n",
       "      <td></td>\n",
       "      <td>2025-06-16 19:18:50</td>\n",
       "      <td>1742014705053995008</td>\n",
       "      <td>1742014705053995008</td>\n",
       "      <td>1935496662642331648</td>\n",
       "      <td>10001</td>\n",
       "      <td>1</td>\n",
       "      <td>None</td>\n",
       "      <td>等离子体物理基础</td>\n",
       "      <td>None</td>\n",
       "    </tr>\n",
       "    <tr>\n",
       "      <th>1</th>\n",
       "      <td>1935496933023944706</td>\n",
       "      <td>1935496933023944704</td>\n",
       "      <td>推导均匀磁化冷等离子体中平行传播的右旋圆偏振电磁波（R波）和左旋圆偏振电磁波（L波）的色散关...</td>\n",
       "      <td>新奥QA测试-32B蒸馏_answer</td>\n",
       "      <td>### 1. 核心结论  \\n均匀磁化冷等离子体中平行传播的右旋圆偏振电磁波（R波）和左旋圆...</td>\n",
       "      <td>0</td>\n",
       "      <td>NaN</td>\n",
       "      <td></td>\n",
       "      <td>2025-06-16 19:18:50</td>\n",
       "      <td>1742014705053995008</td>\n",
       "      <td>1742014705053995008</td>\n",
       "      <td>1935496662642331648</td>\n",
       "      <td>10001</td>\n",
       "      <td>1</td>\n",
       "      <td>None</td>\n",
       "      <td>等离子体物理基础</td>\n",
       "      <td>None</td>\n",
       "    </tr>\n",
       "    <tr>\n",
       "      <th>2</th>\n",
       "      <td>1935496933023944707</td>\n",
       "      <td>1935496933023944704</td>\n",
       "      <td>估算在典型托卡马克等离子体参数下（如电子温度 Te​=5keV，电子密度 ne​=1020m...</td>\n",
       "      <td>新奥QA测试-32B蒸馏_answer</td>\n",
       "      <td>### 核心结论\\n在典型托卡马克等离子体参数下，Spitzer电阻率为 $\\rho_{\\t...</td>\n",
       "      <td>0</td>\n",
       "      <td>NaN</td>\n",
       "      <td></td>\n",
       "      <td>2025-06-16 19:18:50</td>\n",
       "      <td>1742014705053995008</td>\n",
       "      <td>1742014705053995008</td>\n",
       "      <td>1935496662642331648</td>\n",
       "      <td>10001</td>\n",
       "      <td>1</td>\n",
       "      <td>None</td>\n",
       "      <td>等离子体物理基础</td>\n",
       "      <td>None</td>\n",
       "    </tr>\n",
       "    <tr>\n",
       "      <th>3</th>\n",
       "      <td>1935496933023944708</td>\n",
       "      <td>1935496933023944704</td>\n",
       "      <td>什么是反常输运？详细讨论一种主要的微观不稳定性（如离子温度梯度模ITG）是如何驱动反常输运的...</td>\n",
       "      <td>新奥QA测试-32B蒸馏_answer</td>\n",
       "      <td>### 反常输运的定义与背景\\n\\n**核心结论**：反常输运是指在受控核聚变装置中，等离子...</td>\n",
       "      <td>0</td>\n",
       "      <td>NaN</td>\n",
       "      <td></td>\n",
       "      <td>2025-06-16 19:18:50</td>\n",
       "      <td>1742014705053995008</td>\n",
       "      <td>1742014705053995008</td>\n",
       "      <td>1935496662642331648</td>\n",
       "      <td>10001</td>\n",
       "      <td>1</td>\n",
       "      <td>None</td>\n",
       "      <td>等离子体物理基础</td>\n",
       "      <td>None</td>\n",
       "    </tr>\n",
       "    <tr>\n",
       "      <th>4</th>\n",
       "      <td>1935496933023944709</td>\n",
       "      <td>1935496933023944704</td>\n",
       "      <td>描述等离子体鞘层的形成过程和主要特征（如德拜鞘层、预鞘层）。鞘层在等离子体与壁相互作用（PM...</td>\n",
       "      <td>新奥QA测试-32B蒸馏_answer</td>\n",
       "      <td>### 等离子体鞘层的形成过程和主要特征\\n\\n1. **核心结论**  \\n   等离子体...</td>\n",
       "      <td>0</td>\n",
       "      <td>NaN</td>\n",
       "      <td></td>\n",
       "      <td>2025-06-16 19:18:50</td>\n",
       "      <td>1742014705053995008</td>\n",
       "      <td>1742014705053995008</td>\n",
       "      <td>1935496662642331648</td>\n",
       "      <td>10001</td>\n",
       "      <td>1</td>\n",
       "      <td>None</td>\n",
       "      <td>等离子体物理基础</td>\n",
       "      <td>None</td>\n",
       "    </tr>\n",
       "  </tbody>\n",
       "</table>\n",
       "</div>"
      ],
      "text/plain": [
       "                    id       review_work_id  \\\n",
       "0  1935496933023944705  1935496933023944704   \n",
       "1  1935496933023944706  1935496933023944704   \n",
       "2  1935496933023944707  1935496933023944704   \n",
       "3  1935496933023944708  1935496933023944704   \n",
       "4  1935496933023944709  1935496933023944704   \n",
       "\n",
       "                                            question           model_name  \\\n",
       "0  如何从单粒子运动轨迹理论出发，推导并解释磁镜约束的基本原理及其对聚变装置设计的意义？讨论绝热...  新奥QA测试-32B蒸馏_answer   \n",
       "1  推导均匀磁化冷等离子体中平行传播的右旋圆偏振电磁波（R波）和左旋圆偏振电磁波（L波）的色散关...  新奥QA测试-32B蒸馏_answer   \n",
       "2  估算在典型托卡马克等离子体参数下（如电子温度 Te​=5keV，电子密度 ne​=1020m...  新奥QA测试-32B蒸馏_answer   \n",
       "3  什么是反常输运？详细讨论一种主要的微观不稳定性（如离子温度梯度模ITG）是如何驱动反常输运的...  新奥QA测试-32B蒸馏_answer   \n",
       "4  描述等离子体鞘层的形成过程和主要特征（如德拜鞘层、预鞘层）。鞘层在等离子体与壁相互作用（PM...  新奥QA测试-32B蒸馏_answer   \n",
       "\n",
       "                                              answer  score  question_score  \\\n",
       "0  ### 从单粒子运动轨迹理论出发解释磁镜约束的基本原理及其对聚变装置设计的意义\\n\\n###...      0             NaN   \n",
       "1  ### 1. 核心结论  \\n均匀磁化冷等离子体中平行传播的右旋圆偏振电磁波（R波）和左旋圆...      0             NaN   \n",
       "2  ### 核心结论\\n在典型托卡马克等离子体参数下，Spitzer电阻率为 $\\rho_{\\t...      0             NaN   \n",
       "3  ### 反常输运的定义与背景\\n\\n**核心结论**：反常输运是指在受控核聚变装置中，等离子...      0             NaN   \n",
       "4  ### 等离子体鞘层的形成过程和主要特征\\n\\n1. **核心结论**  \\n   等离子体...      0             NaN   \n",
       "\n",
       "  review          create_time       create_user_id       update_user_id  \\\n",
       "0         2025-06-16 19:18:50  1742014705053995008  1742014705053995008   \n",
       "1         2025-06-16 19:18:50  1742014705053995008  1742014705053995008   \n",
       "2         2025-06-16 19:18:50  1742014705053995008  1742014705053995008   \n",
       "3         2025-06-16 19:18:50  1742014705053995008  1742014705053995008   \n",
       "4         2025-06-16 19:18:50  1742014705053995008  1742014705053995008   \n",
       "\n",
       "          data_user_id  data_dept_id  is_delete str_id     field review_state  \n",
       "0  1935496662642331648         10001          1   None  等离子体物理基础         None  \n",
       "1  1935496662642331648         10001          1   None  等离子体物理基础         None  \n",
       "2  1935496662642331648         10001          1   None  等离子体物理基础         None  \n",
       "3  1935496662642331648         10001          1   None  等离子体物理基础         None  \n",
       "4  1935496662642331648         10001          1   None  等离子体物理基础         None  "
      ]
     },
     "execution_count": 28,
     "metadata": {},
     "output_type": "execute_result"
    }
   ],
   "source": [
    "json_file_path = \"large_model_dev_blind_review_detail.json\"\n",
    "data = load_jsonl(json_file_path)\n",
    "review_df = pd.DataFrame(data)\n",
    "review_df['score'] = review_df['score'].astype(int)\n",
    "review_df.head()"
   ]
  },
  {
   "cell_type": "code",
   "execution_count": 18,
   "id": "79f8d7fb",
   "metadata": {},
   "outputs": [
    {
     "data": {
      "text/plain": [
       "score\n",
       "0    508\n",
       "1     10\n",
       "2      2\n",
       "Name: count, dtype: int64"
      ]
     },
     "execution_count": 18,
     "metadata": {},
     "output_type": "execute_result"
    }
   ],
   "source": [
    "review_df['score'].value_counts()"
   ]
  },
  {
   "cell_type": "code",
   "execution_count": 19,
   "id": "e013643b",
   "metadata": {},
   "outputs": [
    {
     "data": {
      "text/plain": [
       "model_name\n",
       "新奥QA测试-32B蒸馏_answer                     130\n",
       "openai/o3_answer                        130\n",
       "google/gemini-2.5-pro-preview_answer    130\n",
       "deepseek/deepseek-r1_answer             130\n",
       "Name: count, dtype: int64"
      ]
     },
     "execution_count": 19,
     "metadata": {},
     "output_type": "execute_result"
    }
   ],
   "source": [
    "review_df['model_name'].value_counts()"
   ]
  },
  {
   "cell_type": "code",
   "execution_count": 27,
   "id": "d42a7124",
   "metadata": {},
   "outputs": [
    {
     "data": {
      "text/plain": [
       "str"
      ]
     },
     "execution_count": 27,
     "metadata": {},
     "output_type": "execute_result"
    }
   ],
   "source": [
    "type(review_df['score'][0])"
   ]
  },
  {
   "cell_type": "code",
   "execution_count": 29,
   "id": "d70db6a5",
   "metadata": {},
   "outputs": [
    {
     "name": "stdout",
     "output_type": "stream",
     "text": [
      "12\n"
     ]
    }
   ],
   "source": [
    "valid_df = review_df[review_df['score'] >= 1]\n",
    "print(len(valid_df))"
   ]
  },
  {
   "cell_type": "code",
   "execution_count": 30,
   "id": "f6104d7f",
   "metadata": {},
   "outputs": [
    {
     "data": {
      "text/plain": [
       "model_name\n",
       "新奥QA测试-32B蒸馏_answer                     3\n",
       "openai/o3_answer                        3\n",
       "google/gemini-2.5-pro-preview_answer    3\n",
       "deepseek/deepseek-r1_answer             3\n",
       "Name: count, dtype: int64"
      ]
     },
     "execution_count": 30,
     "metadata": {},
     "output_type": "execute_result"
    }
   ],
   "source": [
    "valid_df['model_name'].value_counts()"
   ]
  },
  {
   "cell_type": "code",
   "execution_count": null,
   "id": "3b56d5e5",
   "metadata": {},
   "outputs": [],
   "source": []
  }
 ],
 "metadata": {
  "kernelspec": {
   "display_name": "llm",
   "language": "python",
   "name": "python3"
  },
  "language_info": {
   "codemirror_mode": {
    "name": "ipython",
    "version": 3
   },
   "file_extension": ".py",
   "mimetype": "text/x-python",
   "name": "python",
   "nbconvert_exporter": "python",
   "pygments_lexer": "ipython3",
   "version": "3.10.17"
  }
 },
 "nbformat": 4,
 "nbformat_minor": 5
}
