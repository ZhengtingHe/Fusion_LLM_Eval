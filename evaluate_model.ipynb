{
 "cells": [
  {
   "cell_type": "code",
   "execution_count": 1,
   "id": "62a8c9ca",
   "metadata": {},
   "outputs": [
    {
     "name": "stdout",
     "output_type": "stream",
     "text": [
      "DeepSeek-R1-Distill-Qwen-32B\n",
      "DeepSeek-R1-Distill-Qwen-14B\n",
      "deepseek/deepseek-r1\n",
      "openai/gpt-4.1\n",
      "openai/o3\n",
      "anthropic/claude-sonnet-4\n",
      "google/gemini-2.5-pro-preview\n",
      "x-ai/grok-3-beta\n",
      "共有13个领域，每个领域有10个问题\n"
     ]
    }
   ],
   "source": [
    "import numpy as np\n",
    "import pandas as pd\n",
    "from pathlib import Path\n",
    "\n",
    "from deepeval import evaluate\n",
    "from deepeval.evaluate import DisplayConfig, AsyncConfig\n",
    "display_config = DisplayConfig(\n",
    "    show_indicator=True,\n",
    "    print_results=False,\n",
    "    verbose_mode=False,\n",
    ")\n",
    "async_config = AsyncConfig(\n",
    "    max_concurrent=20\n",
    ")\n",
    "import toml\n",
    "with open('config.toml', 'r', encoding='utf-8') as toml_file:\n",
    "    config = toml.load(toml_file)\n",
    "\n",
    "model_names = config['model_names']\n",
    "alter_names = model_names.copy() # Create a copy to modify\n",
    "\n",
    "for i, name in enumerate(alter_names):\n",
    "    if name in config['alternative_names']: \n",
    "        alter_names[i] = config['alternative_names'][name]\n",
    "\n",
    "for name in alter_names:\n",
    "    print(name)\n",
    "INPUT_EXCEL_FILE = \"goldens\" / Path(config['QA_file_name'])\n",
    "question_dfs = pd.read_excel(INPUT_EXCEL_FILE, sheet_name=None, index_col=0)\n",
    "DOMAIN = list(question_dfs.keys())\n",
    "num_questions_per_domain = question_dfs[DOMAIN[0]].shape[0]\n",
    "print(f\"共有{len(DOMAIN)}个领域，每个领域有{num_questions_per_domain}个问题\")\n",
    "\n",
    "QA_df = {}\n",
    "for i, model in enumerate(model_names):\n",
    "    QA_FILE = \"QA\" / Path(f\"{model}_answers.xlsx\")\n",
    "    QA_df[model_names[i]] = pd.read_excel(QA_FILE, sheet_name=None, index_col=0)\n",
    "from custom_metrics import get_dataset, correctness_metric, relevance_metric\n",
    "from deepeval import evaluate\n",
    "from deepeval.dataset import EvaluationDataset"
   ]
  },
  {
   "cell_type": "code",
   "execution_count": 2,
   "id": "52a7184d",
   "metadata": {},
   "outputs": [
    {
     "data": {
      "text/html": [
       "<pre style=\"white-space:pre;overflow-x:auto;line-height:normal;font-family:Menlo,'DejaVu Sans Mono',consolas,'Courier New',monospace\">✨ You're running DeepEval's latest <span style=\"color: #6a00ff; text-decoration-color: #6a00ff\">正确率 </span><span style=\"color: #6a00ff; text-decoration-color: #6a00ff; font-weight: bold\">(</span><span style=\"color: #6a00ff; text-decoration-color: #6a00ff\">GEval</span><span style=\"color: #6a00ff; text-decoration-color: #6a00ff; font-weight: bold\">)</span><span style=\"color: #6a00ff; text-decoration-color: #6a00ff\"> Metric</span>! <span style=\"color: #374151; text-decoration-color: #374151; font-weight: bold\">(</span><span style=\"color: #374151; text-decoration-color: #374151\">using deepseek-r1 </span><span style=\"color: #374151; text-decoration-color: #374151; font-weight: bold\">(</span><span style=\"color: #374151; text-decoration-color: #374151\">JSON</span><span style=\"color: #374151; text-decoration-color: #374151; font-weight: bold\">)</span><span style=\"color: #374151; text-decoration-color: #374151\">, </span><span style=\"color: #374151; text-decoration-color: #374151\">strict</span><span style=\"color: #374151; text-decoration-color: #374151\">=</span><span style=\"color: #374151; text-decoration-color: #374151; font-style: italic\">False</span><span style=\"color: #374151; text-decoration-color: #374151\">, </span>\n",
       "<span style=\"color: #374151; text-decoration-color: #374151\">async_mode</span><span style=\"color: #374151; text-decoration-color: #374151\">=</span><span style=\"color: #374151; text-decoration-color: #374151; font-style: italic\">True</span><span style=\"color: #374151; text-decoration-color: #374151; font-weight: bold\">)</span><span style=\"color: #374151; text-decoration-color: #374151\">...</span>\n",
       "</pre>\n"
      ],
      "text/plain": [
       "✨ You're running DeepEval's latest \u001b[38;2;106;0;255m正确率 \u001b[0m\u001b[1;38;2;106;0;255m(\u001b[0m\u001b[38;2;106;0;255mGEval\u001b[0m\u001b[1;38;2;106;0;255m)\u001b[0m\u001b[38;2;106;0;255m Metric\u001b[0m! \u001b[1;38;2;55;65;81m(\u001b[0m\u001b[38;2;55;65;81musing deepseek-r1 \u001b[0m\u001b[1;38;2;55;65;81m(\u001b[0m\u001b[38;2;55;65;81mJSON\u001b[0m\u001b[1;38;2;55;65;81m)\u001b[0m\u001b[38;2;55;65;81m, \u001b[0m\u001b[38;2;55;65;81mstrict\u001b[0m\u001b[38;2;55;65;81m=\u001b[0m\u001b[3;38;2;55;65;81mFalse\u001b[0m\u001b[38;2;55;65;81m, \u001b[0m\n",
       "\u001b[38;2;55;65;81masync_mode\u001b[0m\u001b[38;2;55;65;81m=\u001b[0m\u001b[3;38;2;55;65;81mTrue\u001b[0m\u001b[1;38;2;55;65;81m)\u001b[0m\u001b[38;2;55;65;81m...\u001b[0m\n"
      ]
     },
     "metadata": {},
     "output_type": "display_data"
    },
    {
     "name": "stderr",
     "output_type": "stream",
     "text": [
      "Evaluating 130 test case(s) in parallel: |██████████|100% (130/130) [Time Taken: 15:13,  7.03s/test case]\n"
     ]
    },
    {
     "data": {
      "text/html": [
       "<pre style=\"white-space:pre;overflow-x:auto;line-height:normal;font-family:Menlo,'DejaVu Sans Mono',consolas,'Courier New',monospace\">\n",
       "<span style=\"color: #05f58d; text-decoration-color: #05f58d\">✓</span> Tests finished 🎉! Run <span style=\"color: #008000; text-decoration-color: #008000; font-weight: bold\">'deepeval login'</span> to save and analyze evaluation results on Confident AI.\n",
       " \n",
       "✨👀 Looking for a place for your LLM test data to live 🏡❤️ ? Use <span style=\"color: #6a00ff; text-decoration-color: #6a00ff\">Confident AI</span> to get &amp; share testing reports, \n",
       "experiment with models/prompts, and catch regressions for your LLM system. Just run <span style=\"color: #008080; text-decoration-color: #008080\">'deepeval login'</span> in the CLI. \n",
       "\n",
       "</pre>\n"
      ],
      "text/plain": [
       "\n",
       "\u001b[38;2;5;245;141m✓\u001b[0m Tests finished 🎉! Run \u001b[1;32m'deepeval login'\u001b[0m to save and analyze evaluation results on Confident AI.\n",
       " \n",
       "✨👀 Looking for a place for your LLM test data to live 🏡❤️ ? Use \u001b[38;2;106;0;255mConfident AI\u001b[0m to get & share testing reports, \n",
       "experiment with models/prompts, and catch regressions for your LLM system. Just run \u001b[36m'deepeval login'\u001b[0m in the CLI. \n",
       "\n"
      ]
     },
     "metadata": {},
     "output_type": "display_data"
    }
   ],
   "source": [
    "inference_model = model_names[1]\n",
    "reference_answer = model_names[5]\n",
    "case_dataset = get_dataset(\n",
    "        infer_model=inference_model,\n",
    "        ref_model=reference_answer,\n",
    "        question_dataframe=question_dfs,\n",
    "        QA_dataframe=QA_df,\n",
    "        domains=DOMAIN\n",
    "    )\n",
    "evaluation_output = evaluate(case_dataset, \n",
    "                             [correctness_metric], \n",
    "                             display_config=display_config,\n",
    "                             async_config=async_config,\n",
    "                             )"
   ]
  },
  {
   "cell_type": "code",
   "execution_count": 3,
   "id": "d314da6a",
   "metadata": {},
   "outputs": [
    {
     "data": {
      "text/plain": [
       "{'name': 'test_case_7',\n",
       " 'success': True,\n",
       " 'metrics_data': [MetricData(name='正确率 (GEval)', threshold=0.5, success=True, score=0.7, reason='实际输出核心结论与预期一致，但缺少对反常输运机制的具体描述（如玻姆扩散公式中缺少系数和单位，近壁电导未提及湍流影响），且未明确比较经典与反常输运模型。', strict_mode=False, evaluation_model='deepseek-r1 (JSON)', error=None, evaluation_cost=None, verbose_logs='Criteria:\\nNone \\n \\nEvaluation Steps:\\n[\\n    \"用简体中文陈述给分原因\",\\n    \"检查最终结论是否与预期中的结论一致\",\\n    \"推导思路相近但结论不同的情况，认为是错误的\",\\n    \"如果出现公式和物理量，需要检查代表内容是否一致\"\\n] \\n \\nRubric:\\nNone')],\n",
       " 'conversational': False,\n",
       " 'multimodal': False,\n",
       " 'input': '讨论E×B漂移在等离子体约束和输运中的双重作用。以霍尔推进器或磁控溅射为例，分析闭合E×B漂移系统中的反常电子输运机制（如玻姆扩散、近壁电导）。',\n",
       " 'actual_output': '**E×B漂移的双重作用及其在霍尔推进器和磁控溅射中的应用**\\n\\n**1. 核心结论**\\n\\nE×B漂移在等离子体约束中起到关键作用，但在闭合系统中可能导致玻姆扩散和近壁电导等反常电子输运，影响装置性能。\\n\\n**2. 背景与概念**\\n\\nE×B漂移是指等离子体中带电粒子在电场(E)和磁场(B)共同作用下的漂移运动。在托卡马克等装置中，强磁场约束等离子体，抑制垂直输运。然而，闭合的E×B路径可能引发反常输运，如玻姆扩散和近壁电导。\\n\\n**3. 原理与机理分析**\\n\\n- **约束作用**：E×B漂移方向与磁场垂直，有效限制等离子体运动，防止逸出。\\n- **输运作用**：闭合路径形成环流，导致玻姆扩散和近壁电导，影响输运效率。\\n\\n**4. 定量估算与示例**\\n\\n- **玻姆扩散**：扩散系数与磁场平方成反比，公式为$D_B \\\\propto \\\\frac{T_e}{B^2}$，其中$T_e$为电子温度，$B$为磁场强度。\\n- **近壁电导**：电导率变化影响输运，靠近壁区域电子密度增加，电导率上升。\\n\\n**5. 工程意义**\\n\\n在霍尔推进器中，合理设计磁场和电场分布，优化离子加速效率；在磁控溅射中，控制磁场避免近壁电导，提高溅射效率。\\n\\n**6. 比较与拓展**\\n\\n- **玻姆扩散**：适用于高温等离子体，需强磁场抑制。\\n- **近壁电导**：主要在高密度区域，需优化装置几何结构。\\n\\n**7. 要点总结**\\n\\nE×B漂移在约束等离子体中至关重要，但闭合系统需防范反常输运，合理设计磁场和装置结构以优化性能。',\n",
       " 'expected_output': '### 核心结论\\n\\\\[ \\\\mathbf{E} \\\\times \\\\mathbf{B} \\\\] 漂移在等离子体约束系统中既可以起到有效的颗粒约束作用，也可能引发反常的电子输运机制，具体作用取决于系统特性和边界条件。\\n\\n### 背景与概念\\n\\n- **\\\\[ \\\\mathbf{E} \\\\times \\\\mathbf{B} \\\\] 漂移**：在磁场 \\\\(\\\\mathbf{B}\\\\) 和电场 \\\\(\\\\mathbf{E}\\\\) 的共同作用下，带电粒子的净运动，由公式 \\\\(\\\\mathbf{v}_{\\\\text{drift}} = \\\\frac{\\\\mathbf{E} \\\\times \\\\mathbf{B}}{B^2}\\\\) 描述，单位是速度（如 m/s）。\\n- **霍尔推进器**与**磁控溅射**：两者都是利用 \\\\[ \\\\mathbf{E} \\\\times \\\\mathbf{B} \\\\] 漂移来加速带电粒子或产生薄膜的等离子体装置，在其中，电子被 \\\\[ \\\\mathbf{E} \\\\times \\\\mathbf{B} \\\\] 漂移限制在回旋轨道上。\\n- **反常输运**：是指在经典输运之外，由湍流、边界或其他效应引起的非预期输运效应。\\n\\n### 原理与推导 / 机理分析\\n\\n- **约束作用**：在托卡马克或仿星器中，\\\\[\\\\mathbf{E} \\\\times \\\\mathbf{B}\\\\] 漂移有助于约束等离子体中的离子和电子，减缓其径向损失。\\n- **反常电子输运**：\\n  - **玻姆扩散**：在闭合\\\\(\\\\mathbf{E} \\\\times \\\\mathbf{B}\\\\)漂移系统中，湍流等导致该速度与其他通道叠加，电子电导随规范因子慢涨，通量与\\\\(\\\\mathbf{B}^{-1}\\\\)成比例，而非经典预测的 \\\\(\\\\mathbf{B}^{-2}\\\\)。\\n  - **近壁电导(Near-wall conductivity)**：在装置边界上的不规则性和微观电磁波动引起的径向电子扩散。\\n  \\n### 定量估算或示例\\n\\n- **霍尔推进器中的玻姆扩散**：电子的玻姆扩散系数 \\\\(D_B\\\\) 可以估计为 \\\\(D_B \\\\approx \\\\frac{kT_e}{16eB}\\\\)，其中 \\\\(kT_e\\\\) 为电子温度，e为电子电荷，B为磁感应强度。\\n- **磁控溅射的近壁电导**：在\\\\(\\\\mathbf{E} \\\\times \\\\mathbf{B}\\\\)漂移与装置壁面相互作用下，估算近壁电导，同时将实验数据与理论预测对比以确定湍流影响。\\n\\n### 工程或实验意义\\n\\n- 了解和控制反常电子输运是提高等离子体装置性能的关键，这在设计霍尔推进器、磁控溅射等设备时有重要指导意义。\\n- 玻姆扩散和近壁电导影响加速效率和材料沉积均匀性，而其优化需要在设备设计中整合这些物理机理。\\n\\n### 比较与拓展（如适用）\\n\\n- **经典输运理论**与**反常输运模型**间的比较：经典模型基于费克定律，而反常模型考虑玻姆扩散或近壁效应，需要结合设备具体几何和操作条件。\\n  \\n### 要点总结\\n\\n\\\\[ \\\\mathbf{E} \\\\times \\\\mathbf{B} \\\\] 漂移在等离子体中起到双重作用：既能约束等离子体，又可能引发反常电子输运。深入理解反常输运机理，尤其在霍尔推进器和磁控溅射装置中，是优化设计和运行效率的关键。',\n",
       " 'context': None,\n",
       " 'retrieval_context': None,\n",
       " 'additional_metadata': None}"
      ]
     },
     "execution_count": 3,
     "metadata": {},
     "output_type": "execute_result"
    }
   ],
   "source": [
    "evaluation_output.test_results[0].__dict__"
   ]
  },
  {
   "cell_type": "code",
   "execution_count": 4,
   "id": "81220601",
   "metadata": {},
   "outputs": [
    {
     "data": {
      "text/plain": [
       "{'name': '正确率 (GEval)',\n",
       " 'threshold': 0.5,\n",
       " 'success': True,\n",
       " 'score': 0.7,\n",
       " 'reason': '实际输出核心结论与预期一致，但缺少对反常输运机制的具体描述（如玻姆扩散公式中缺少系数和单位，近壁电导未提及湍流影响），且未明确比较经典与反常输运模型。',\n",
       " 'strict_mode': False,\n",
       " 'evaluation_model': 'deepseek-r1 (JSON)',\n",
       " 'error': None,\n",
       " 'evaluation_cost': None,\n",
       " 'verbose_logs': 'Criteria:\\nNone \\n \\nEvaluation Steps:\\n[\\n    \"用简体中文陈述给分原因\",\\n    \"检查最终结论是否与预期中的结论一致\",\\n    \"推导思路相近但结论不同的情况，认为是错误的\",\\n    \"如果出现公式和物理量，需要检查代表内容是否一致\"\\n] \\n \\nRubric:\\nNone'}"
      ]
     },
     "execution_count": 4,
     "metadata": {},
     "output_type": "execute_result"
    }
   ],
   "source": [
    "evaluation_output.test_results[0].metrics_data[0].__dict__"
   ]
  },
  {
   "cell_type": "code",
   "execution_count": 12,
   "id": "809d6897",
   "metadata": {},
   "outputs": [],
   "source": [
    "evaluation_output_df = pd.DataFrame(\n",
    "    [\n",
    "        {\n",
    "            \"input\": evaluation_output.test_results[i].input,\n",
    "            \"actual_output\": evaluation_output.test_results[i].input,\n",
    "            \"expected_output\": evaluation_output.test_results[i].expected_output,\n",
    "            \"score\": evaluation_output.test_results[i].metrics_data[0].score,\n",
    "            \"reason\": evaluation_output.test_results[i].metrics_data[0].reason,\n",
    "        } \n",
    "    for i in range(len(evaluation_output.test_results))\n",
    "    ])\n",
    "evaluation_output_df.to_parquet(\"evaluation_output.parquet\")"
   ]
  },
  {
   "cell_type": "code",
   "execution_count": 6,
   "id": "dc774f2b",
   "metadata": {},
   "outputs": [
    {
     "data": {
      "text/html": [
       "<div>\n",
       "<style scoped>\n",
       "    .dataframe tbody tr th:only-of-type {\n",
       "        vertical-align: middle;\n",
       "    }\n",
       "\n",
       "    .dataframe tbody tr th {\n",
       "        vertical-align: top;\n",
       "    }\n",
       "\n",
       "    .dataframe thead th {\n",
       "        text-align: right;\n",
       "    }\n",
       "</style>\n",
       "<table border=\"1\" class=\"dataframe\">\n",
       "  <thead>\n",
       "    <tr style=\"text-align: right;\">\n",
       "      <th></th>\n",
       "      <th>input</th>\n",
       "      <th>actual_output</th>\n",
       "      <th>expected_output</th>\n",
       "      <th>score</th>\n",
       "      <th>reason</th>\n",
       "    </tr>\n",
       "  </thead>\n",
       "  <tbody>\n",
       "    <tr>\n",
       "      <th>0</th>\n",
       "      <td>讨论E×B漂移在等离子体约束和输运中的双重作用。以霍尔推进器或磁控溅射为例，分析闭合E×B漂...</td>\n",
       "      <td>讨论E×B漂移在等离子体约束和输运中的双重作用。以霍尔推进器或磁控溅射为例，分析闭合E×B漂...</td>\n",
       "      <td>### 核心结论\\n\\[ \\mathbf{E} \\times \\mathbf{B} \\] 漂...</td>\n",
       "      <td>0.7</td>\n",
       "      <td>实际输出核心结论与预期一致，但缺少对反常输运机制的具体描述（如玻姆扩散公式中缺少系数和单位，...</td>\n",
       "    </tr>\n",
       "    <tr>\n",
       "      <th>1</th>\n",
       "      <td>如何通过实验手段测量等离子体的基本参数，如电子温度（Te​）、离子温度（Ti​）、电子密度（...</td>\n",
       "      <td>如何通过实验手段测量等离子体的基本参数，如电子温度（Te​）、离子温度（Ti​）、电子密度（...</td>\n",
       "      <td>1. **核心结论**  \\n   等离子体的基本参数如电子温度、离子温度、电子密度和等离子...</td>\n",
       "      <td>0.6</td>\n",
       "      <td>实际输出包含光谱诊断、干涉仪/极光仪、微波诊断和磁诊断，但预期输出要求汤姆逊散射诊断、干涉仪...</td>\n",
       "    </tr>\n",
       "    <tr>\n",
       "      <th>2</th>\n",
       "      <td>在托卡马克先进运行模式中，如何通过优化电流密度剖面和压强剖面来提高MHD稳定性极限，例如避免...</td>\n",
       "      <td>在托卡马克先进运行模式中，如何通过优化电流密度剖面和压强剖面来提高MHD稳定性极限，例如避免...</td>\n",
       "      <td>1. **核心结论** —— 通过优化电流密度剖面和压强剖面，可以提升托卡马克装置的MHD稳...</td>\n",
       "      <td>0.9</td>\n",
       "      <td>实际输出与预期输出的核心结论一致，均强调优化电流密度和压强剖面可提升MHD稳定性并抑制NTM...</td>\n",
       "    </tr>\n",
       "    <tr>\n",
       "      <th>3</th>\n",
       "      <td>解释Mercier判据和气球模判据在仿星器局部稳定性评估中的应用。为何在仿星器中，即使局部判...</td>\n",
       "      <td>解释Mercier判据和气球模判据在仿星器局部稳定性评估中的应用。为何在仿星器中，即使局部判...</td>\n",
       "      <td>### 核心结论\\nMercier判据和气球模判据用于评估仿星器中的局部等离子体稳定性，但即...</td>\n",
       "      <td>0.6</td>\n",
       "      <td>核心结论一致，但Mercier判据公式（涉及∇p·∇ψ）与预期（含q²β_p）不符，气球模判...</td>\n",
       "    </tr>\n",
       "    <tr>\n",
       "      <th>4</th>\n",
       "      <td>解释理想MHD中的主要不稳定性模式，如扭曲模（Kink modes）和气球模（Balloon...</td>\n",
       "      <td>解释理想MHD中的主要不稳定性模式，如扭曲模（Kink modes）和气球模（Balloon...</td>\n",
       "      <td>### 核心结论\\n理想MHD中的扭曲模和气球模是两种主要的不稳定性模式，分别由等离子体的电...</td>\n",
       "      <td>0.3</td>\n",
       "      <td>实际输出中扭曲模的驱动机制被错误描述为纵向压强梯度（预期应为电流），气球模的驱动机制正确但整...</td>\n",
       "    </tr>\n",
       "  </tbody>\n",
       "</table>\n",
       "</div>"
      ],
      "text/plain": [
       "                                               input  \\\n",
       "0  讨论E×B漂移在等离子体约束和输运中的双重作用。以霍尔推进器或磁控溅射为例，分析闭合E×B漂...   \n",
       "1  如何通过实验手段测量等离子体的基本参数，如电子温度（Te​）、离子温度（Ti​）、电子密度（...   \n",
       "2  在托卡马克先进运行模式中，如何通过优化电流密度剖面和压强剖面来提高MHD稳定性极限，例如避免...   \n",
       "3  解释Mercier判据和气球模判据在仿星器局部稳定性评估中的应用。为何在仿星器中，即使局部判...   \n",
       "4  解释理想MHD中的主要不稳定性模式，如扭曲模（Kink modes）和气球模（Balloon...   \n",
       "\n",
       "                                       actual_output  \\\n",
       "0  讨论E×B漂移在等离子体约束和输运中的双重作用。以霍尔推进器或磁控溅射为例，分析闭合E×B漂...   \n",
       "1  如何通过实验手段测量等离子体的基本参数，如电子温度（Te​）、离子温度（Ti​）、电子密度（...   \n",
       "2  在托卡马克先进运行模式中，如何通过优化电流密度剖面和压强剖面来提高MHD稳定性极限，例如避免...   \n",
       "3  解释Mercier判据和气球模判据在仿星器局部稳定性评估中的应用。为何在仿星器中，即使局部判...   \n",
       "4  解释理想MHD中的主要不稳定性模式，如扭曲模（Kink modes）和气球模（Balloon...   \n",
       "\n",
       "                                     expected_output  score  \\\n",
       "0  ### 核心结论\\n\\[ \\mathbf{E} \\times \\mathbf{B} \\] 漂...    0.7   \n",
       "1  1. **核心结论**  \\n   等离子体的基本参数如电子温度、离子温度、电子密度和等离子...    0.6   \n",
       "2  1. **核心结论** —— 通过优化电流密度剖面和压强剖面，可以提升托卡马克装置的MHD稳...    0.9   \n",
       "3  ### 核心结论\\nMercier判据和气球模判据用于评估仿星器中的局部等离子体稳定性，但即...    0.6   \n",
       "4  ### 核心结论\\n理想MHD中的扭曲模和气球模是两种主要的不稳定性模式，分别由等离子体的电...    0.3   \n",
       "\n",
       "                                              reason  \n",
       "0  实际输出核心结论与预期一致，但缺少对反常输运机制的具体描述（如玻姆扩散公式中缺少系数和单位，...  \n",
       "1  实际输出包含光谱诊断、干涉仪/极光仪、微波诊断和磁诊断，但预期输出要求汤姆逊散射诊断、干涉仪...  \n",
       "2  实际输出与预期输出的核心结论一致，均强调优化电流密度和压强剖面可提升MHD稳定性并抑制NTM...  \n",
       "3  核心结论一致，但Mercier判据公式（涉及∇p·∇ψ）与预期（含q²β_p）不符，气球模判...  \n",
       "4  实际输出中扭曲模的驱动机制被错误描述为纵向压强梯度（预期应为电流），气球模的驱动机制正确但整...  "
      ]
     },
     "execution_count": 6,
     "metadata": {},
     "output_type": "execute_result"
    }
   ],
   "source": [
    "evaluation_output_df.head()"
   ]
  },
  {
   "cell_type": "code",
   "execution_count": 7,
   "id": "dcd3058a",
   "metadata": {},
   "outputs": [
    {
     "data": {
      "image/png": "[encoded data removed]",
      "text/plain": [
       "<Figure size 640x480 with 1 Axes>"
      ]
     },
     "metadata": {},
     "output_type": "display_data"
    }
   ],
   "source": [
    "from matplotlib import pyplot as plt\n",
    "scores = evaluation_output_df['score'].tolist()\n",
    "average_score = np.mean(scores)\n",
    "bin_edges = np.arange(-0.05, 1.05, 0.1)\n",
    "plt.hist(scores, bins=bin_edges, label='Baseline', edgecolor='black', alpha=0.7)\n",
    "plt.xticks(np.arange(0, 1.1, 0.1))\n",
    "plt.axvline(average_score, color='r', linestyle='--', label='Baseline Average')\n",
    "plt.legend()\n",
    "plt.show()"
   ]
  },
  {
   "cell_type": "code",
   "execution_count": 8,
   "id": "044a8b4b",
   "metadata": {},
   "outputs": [
    {
     "data": {
      "text/html": [
       "<pre style=\"white-space:pre;overflow-x:auto;line-height:normal;font-family:Menlo,'DejaVu Sans Mono',consolas,'Courier New',monospace\">✨ You're running DeepEval's latest <span style=\"color: #6a00ff; text-decoration-color: #6a00ff\">正确率 </span><span style=\"color: #6a00ff; text-decoration-color: #6a00ff; font-weight: bold\">(</span><span style=\"color: #6a00ff; text-decoration-color: #6a00ff\">GEval</span><span style=\"color: #6a00ff; text-decoration-color: #6a00ff; font-weight: bold\">)</span><span style=\"color: #6a00ff; text-decoration-color: #6a00ff\"> Metric</span>! <span style=\"color: #374151; text-decoration-color: #374151; font-weight: bold\">(</span><span style=\"color: #374151; text-decoration-color: #374151\">using deepseek-r1 </span><span style=\"color: #374151; text-decoration-color: #374151; font-weight: bold\">(</span><span style=\"color: #374151; text-decoration-color: #374151\">JSON</span><span style=\"color: #374151; text-decoration-color: #374151; font-weight: bold\">)</span><span style=\"color: #374151; text-decoration-color: #374151\">, </span><span style=\"color: #374151; text-decoration-color: #374151\">strict</span><span style=\"color: #374151; text-decoration-color: #374151\">=</span><span style=\"color: #374151; text-decoration-color: #374151; font-style: italic\">False</span><span style=\"color: #374151; text-decoration-color: #374151\">, </span>\n",
       "<span style=\"color: #374151; text-decoration-color: #374151\">async_mode</span><span style=\"color: #374151; text-decoration-color: #374151\">=</span><span style=\"color: #374151; text-decoration-color: #374151; font-style: italic\">True</span><span style=\"color: #374151; text-decoration-color: #374151; font-weight: bold\">)</span><span style=\"color: #374151; text-decoration-color: #374151\">...</span>\n",
       "</pre>\n"
      ],
      "text/plain": [
       "✨ You're running DeepEval's latest \u001b[38;2;106;0;255m正确率 \u001b[0m\u001b[1;38;2;106;0;255m(\u001b[0m\u001b[38;2;106;0;255mGEval\u001b[0m\u001b[1;38;2;106;0;255m)\u001b[0m\u001b[38;2;106;0;255m Metric\u001b[0m! \u001b[1;38;2;55;65;81m(\u001b[0m\u001b[38;2;55;65;81musing deepseek-r1 \u001b[0m\u001b[1;38;2;55;65;81m(\u001b[0m\u001b[38;2;55;65;81mJSON\u001b[0m\u001b[1;38;2;55;65;81m)\u001b[0m\u001b[38;2;55;65;81m, \u001b[0m\u001b[38;2;55;65;81mstrict\u001b[0m\u001b[38;2;55;65;81m=\u001b[0m\u001b[3;38;2;55;65;81mFalse\u001b[0m\u001b[38;2;55;65;81m, \u001b[0m\n",
       "\u001b[38;2;55;65;81masync_mode\u001b[0m\u001b[38;2;55;65;81m=\u001b[0m\u001b[3;38;2;55;65;81mTrue\u001b[0m\u001b[1;38;2;55;65;81m)\u001b[0m\u001b[38;2;55;65;81m...\u001b[0m\n"
      ]
     },
     "metadata": {},
     "output_type": "display_data"
    },
    {
     "name": "stderr",
     "output_type": "stream",
     "text": [
      "Evaluating 130 test case(s) in parallel: |██████████|100% (130/130) [Time Taken: 15:37,  7.21s/test case]\n"
     ]
    },
    {
     "data": {
      "text/html": [
       "<pre style=\"white-space:pre;overflow-x:auto;line-height:normal;font-family:Menlo,'DejaVu Sans Mono',consolas,'Courier New',monospace\">\n",
       "<span style=\"color: #05f58d; text-decoration-color: #05f58d\">✓</span> Tests finished 🎉! Run <span style=\"color: #008000; text-decoration-color: #008000; font-weight: bold\">'deepeval login'</span> to save and analyze evaluation results on Confident AI.\n",
       " \n",
       "✨👀 Looking for a place for your LLM test data to live 🏡❤️ ? Use <span style=\"color: #6a00ff; text-decoration-color: #6a00ff\">Confident AI</span> to get &amp; share testing reports, \n",
       "experiment with models/prompts, and catch regressions for your LLM system. Just run <span style=\"color: #008080; text-decoration-color: #008080\">'deepeval login'</span> in the CLI. \n",
       "\n",
       "</pre>\n"
      ],
      "text/plain": [
       "\n",
       "\u001b[38;2;5;245;141m✓\u001b[0m Tests finished 🎉! Run \u001b[1;32m'deepeval login'\u001b[0m to save and analyze evaluation results on Confident AI.\n",
       " \n",
       "✨👀 Looking for a place for your LLM test data to live 🏡❤️ ? Use \u001b[38;2;106;0;255mConfident AI\u001b[0m to get & share testing reports, \n",
       "experiment with models/prompts, and catch regressions for your LLM system. Just run \u001b[36m'deepeval login'\u001b[0m in the CLI. \n",
       "\n"
      ]
     },
     "metadata": {},
     "output_type": "display_data"
    }
   ],
   "source": [
    "trained_inference_model = model_names[3]\n",
    "reference_answer = model_names[5]\n",
    "case_dataset = get_dataset(\n",
    "        infer_model=trained_inference_model,\n",
    "        ref_model=reference_answer,\n",
    "        question_dataframe=question_dfs,\n",
    "        QA_dataframe=QA_df,\n",
    "        domains=DOMAIN\n",
    "    )\n",
    "trained_evaluation_output = evaluate(case_dataset, \n",
    "                             [correctness_metric], \n",
    "                             display_config=display_config,\n",
    "                            #  hyperparameters={\"Temperature\": 0.1, \"Max Tokens\": 50000, \"System Prompt\": \"You MUST NOT add any extra commentary outside the JSON\"}\n",
    "                             )"
   ]
  },
  {
   "cell_type": "code",
   "execution_count": 11,
   "id": "2032ad66",
   "metadata": {},
   "outputs": [],
   "source": [
    "trained_evaluation_output_df = pd.DataFrame(\n",
    "    [\n",
    "        {\n",
    "            \"input\": trained_evaluation_output.test_results[i].input,\n",
    "            \"actual_output\": trained_evaluation_output.test_results[i].input,\n",
    "            \"expected_output\": trained_evaluation_output.test_results[i].expected_output,\n",
    "            \"score\": trained_evaluation_output.test_results[i].metrics_data[0].score,\n",
    "            \"reason\": trained_evaluation_output.test_results[i].metrics_data[0].reason,\n",
    "        } \n",
    "    for i in range(len(trained_evaluation_output.test_results))\n",
    "    ])\n",
    "trained_evaluation_output_df.to_parquet(\"trained_evaluation_output_df.parquet\")"
   ]
  },
  {
   "cell_type": "code",
   "execution_count": 10,
   "id": "4ae73f01",
   "metadata": {},
   "outputs": [
    {
     "data": {
      "image/png": "[encoded data removed]",
      "text/plain": [
       "<Figure size 640x480 with 1 Axes>"
      ]
     },
     "metadata": {},
     "output_type": "display_data"
    }
   ],
   "source": [
    "trained_scores = trained_evaluation_output_df['score'].tolist()\n",
    "trained_average_score = np.mean(trained_scores)\n",
    "bin_edges = np.arange(-0.05, 1.05, 0.1)\n",
    "plt.hist(trained_scores, bins=bin_edges, label='Trained Model', edgecolor='black', alpha=0.5, color='r')\n",
    "plt.hist(scores, bins=bin_edges, label='Baseline', edgecolor='black', alpha=0.5, color='b')\n",
    "plt.xticks(np.arange(0, 1.1, 0.1))\n",
    "plt.axvline(trained_average_score, color='r', linestyle='--', label='Trained Model Average')\n",
    "plt.axvline(average_score, color='b', linestyle='--', label='Baseline Average')\n",
    "plt.legend()\n",
    "plt.show()"
   ]
  },
  {
   "cell_type": "code",
   "execution_count": null,
   "id": "5cb2ba15",
   "metadata": {},
   "outputs": [],
   "source": []
  }
 ],
 "metadata": {
  "kernelspec": {
   "display_name": "llm",
   "language": "python",
   "name": "python3"
  },
  "language_info": {
   "codemirror_mode": {
    "name": "ipython",
    "version": 3
   },
   "file_extension": ".py",
   "mimetype": "text/x-python",
   "name": "python",
   "nbconvert_exporter": "python",
   "pygments_lexer": "ipython3",
   "version": "3.10.17"
  }
 },
 "nbformat": 4,
 "nbformat_minor": 5
}
